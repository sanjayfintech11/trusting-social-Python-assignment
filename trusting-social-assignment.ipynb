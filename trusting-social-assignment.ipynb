{
 "cells": [
  {
   "cell_type": "markdown",
   "metadata": {},
   "source": [
    "# trusting-social-Python-assignment\n",
    "\n",
    "Use the \"Run\" button to execute the code."
   ]
  },
  {
   "cell_type": "code",
   "execution_count": 1,
   "metadata": {},
   "outputs": [
    {
     "name": "stdout",
     "output_type": "stream",
     "text": [
      "Hello World\n"
     ]
    }
   ],
   "source": [
    "print('Hello World')"
   ]
  },
  {
   "cell_type": "code",
   "execution_count": 6,
   "metadata": {},
   "outputs": [],
   "source": [
    "import numpy as np # linear algebra\n",
    "import pandas as pd # data processing, CSV file I/O (e.g. pd.read_csv)\n"
   ]
  },
  {
   "cell_type": "code",
   "execution_count": 7,
   "metadata": {},
   "outputs": [
    {
     "name": "stdout",
     "output_type": "stream",
     "text": [
      "Collecting openpyxl\n",
      "  Downloading openpyxl-3.1.1-py2.py3-none-any.whl (249 kB)\n",
      "     |████████████████████████████████| 249 kB 6.0 MB/s            \n",
      "\u001b[?25hCollecting et-xmlfile\n",
      "  Downloading et_xmlfile-1.1.0-py3-none-any.whl (4.7 kB)\n",
      "Installing collected packages: et-xmlfile, openpyxl\n",
      "Successfully installed et-xmlfile-1.1.0 openpyxl-3.1.1\n",
      "Note: you may need to restart the kernel to use updated packages.\n"
     ]
    }
   ],
   "source": [
    "pip install openpyxl\n"
   ]
  },
  {
   "cell_type": "code",
   "execution_count": 8,
   "metadata": {},
   "outputs": [],
   "source": [
    "messy = pd.read_excel(\"messy.xlsx\", sheet_name =\"test\")\n"
   ]
  },
  {
   "cell_type": "code",
   "execution_count": 9,
   "metadata": {},
   "outputs": [
    {
     "data": {
      "text/html": [
       "<div>\n",
       "<style scoped>\n",
       "    .dataframe tbody tr th:only-of-type {\n",
       "        vertical-align: middle;\n",
       "    }\n",
       "\n",
       "    .dataframe tbody tr th {\n",
       "        vertical-align: top;\n",
       "    }\n",
       "\n",
       "    .dataframe thead th {\n",
       "        text-align: right;\n",
       "    }\n",
       "</style>\n",
       "<table border=\"1\" class=\"dataframe\">\n",
       "  <thead>\n",
       "    <tr style=\"text-align: right;\">\n",
       "      <th></th>\n",
       "      <th>CUst ID</th>\n",
       "      <th>JOIN% DATE</th>\n",
       "      <th>Unnamed: 2</th>\n",
       "      <th>mobiles</th>\n",
       "      <th>FLL NAM</th>\n",
       "    </tr>\n",
       "  </thead>\n",
       "  <tbody>\n",
       "    <tr>\n",
       "      <th>0</th>\n",
       "      <td>1</td>\n",
       "      <td>08/07/19</td>\n",
       "      <td>NaN</td>\n",
       "      <td>84333605993</td>\n",
       "      <td>mIChAel mIcHALek</td>\n",
       "    </tr>\n",
       "    <tr>\n",
       "      <th>1</th>\n",
       "      <td>2</td>\n",
       "      <td>09/10/18</td>\n",
       "      <td>NaN</td>\n",
       "      <td>973444062</td>\n",
       "      <td>Andrew Jimenez</td>\n",
       "    </tr>\n",
       "    <tr>\n",
       "      <th>2</th>\n",
       "      <td>3</td>\n",
       "      <td>20190630</td>\n",
       "      <td>NaN</td>\n",
       "      <td>338262954</td>\n",
       "      <td>Ann Gow</td>\n",
       "    </tr>\n",
       "    <tr>\n",
       "      <th>3</th>\n",
       "      <td>4</td>\n",
       "      <td>2019-09-06 00:00:1567702800</td>\n",
       "      <td>NaN</td>\n",
       "      <td>84966068026</td>\n",
       "      <td>James Chen</td>\n",
       "    </tr>\n",
       "    <tr>\n",
       "      <th>4</th>\n",
       "      <td>5</td>\n",
       "      <td>20170812</td>\n",
       "      <td>NaN</td>\n",
       "      <td>84767065885</td>\n",
       "      <td>Dollie Martinez</td>\n",
       "    </tr>\n",
       "  </tbody>\n",
       "</table>\n",
       "</div>"
      ],
      "text/plain": [
       "   CUst ID                   JOIN% DATE  Unnamed: 2      mobiles  \\\n",
       "0        1                     08/07/19         NaN  84333605993   \n",
       "1        2                     09/10/18         NaN    973444062   \n",
       "2        3                     20190630         NaN    338262954   \n",
       "3        4  2019-09-06 00:00:1567702800         NaN  84966068026   \n",
       "4        5                     20170812         NaN  84767065885   \n",
       "\n",
       "            FLL NAM  \n",
       "0  mIChAel mIcHALek  \n",
       "1    Andrew Jimenez  \n",
       "2           Ann Gow  \n",
       "3        James Chen  \n",
       "4   Dollie Martinez  "
      ]
     },
     "execution_count": 9,
     "metadata": {},
     "output_type": "execute_result"
    }
   ],
   "source": [
    "messy.head(5)\n"
   ]
  },
  {
   "cell_type": "code",
   "execution_count": 10,
   "metadata": {},
   "outputs": [
    {
     "data": {
      "text/html": [
       "<div>\n",
       "<style scoped>\n",
       "    .dataframe tbody tr th:only-of-type {\n",
       "        vertical-align: middle;\n",
       "    }\n",
       "\n",
       "    .dataframe tbody tr th {\n",
       "        vertical-align: top;\n",
       "    }\n",
       "\n",
       "    .dataframe thead th {\n",
       "        text-align: right;\n",
       "    }\n",
       "</style>\n",
       "<table border=\"1\" class=\"dataframe\">\n",
       "  <thead>\n",
       "    <tr style=\"text-align: right;\">\n",
       "      <th></th>\n",
       "      <th>CUst ID</th>\n",
       "      <th>JOIN% DATE</th>\n",
       "      <th>Unnamed: 2</th>\n",
       "      <th>mobiles</th>\n",
       "      <th>FLL NAM</th>\n",
       "    </tr>\n",
       "  </thead>\n",
       "  <tbody>\n",
       "    <tr>\n",
       "      <th>5</th>\n",
       "      <td>21</td>\n",
       "      <td>2018-06-02 00:00:1527872400</td>\n",
       "      <td>NaN</td>\n",
       "      <td>84339769174</td>\n",
       "      <td>Roger Callender</td>\n",
       "    </tr>\n",
       "    <tr>\n",
       "      <th>8</th>\n",
       "      <td>9</td>\n",
       "      <td>2018-12-01 00:00:1543597200</td>\n",
       "      <td>NaN</td>\n",
       "      <td>782904001</td>\n",
       "      <td>JaMeS dEmERs</td>\n",
       "    </tr>\n",
       "    <tr>\n",
       "      <th>13</th>\n",
       "      <td>14</td>\n",
       "      <td>20171210</td>\n",
       "      <td>NaN</td>\n",
       "      <td>84356173988</td>\n",
       "      <td>Paul Ruper</td>\n",
       "    </tr>\n",
       "    <tr>\n",
       "      <th>20</th>\n",
       "      <td>21</td>\n",
       "      <td>30/08/17</td>\n",
       "      <td>NaN</td>\n",
       "      <td>841227138894</td>\n",
       "      <td>aNGiE DavIS</td>\n",
       "    </tr>\n",
       "    <tr>\n",
       "      <th>23</th>\n",
       "      <td>24</td>\n",
       "      <td>04/04/19</td>\n",
       "      <td>NaN</td>\n",
       "      <td>84766048406</td>\n",
       "      <td>juaNIta nutTer</td>\n",
       "    </tr>\n",
       "    <tr>\n",
       "      <th>24</th>\n",
       "      <td>97</td>\n",
       "      <td>09/02/19</td>\n",
       "      <td>NaN</td>\n",
       "      <td>84978909747</td>\n",
       "      <td>Stephanie Short</td>\n",
       "    </tr>\n",
       "    <tr>\n",
       "      <th>32</th>\n",
       "      <td>33</td>\n",
       "      <td>20190723</td>\n",
       "      <td>NaN</td>\n",
       "      <td>974404339</td>\n",
       "      <td>Lawrence Cummings</td>\n",
       "    </tr>\n",
       "    <tr>\n",
       "      <th>33</th>\n",
       "      <td>9</td>\n",
       "      <td>2017-10-21 00:00:1508518800</td>\n",
       "      <td>NaN</td>\n",
       "      <td>1285210195</td>\n",
       "      <td>Shelby Dexter</td>\n",
       "    </tr>\n",
       "    <tr>\n",
       "      <th>40</th>\n",
       "      <td>41</td>\n",
       "      <td>01/01/19</td>\n",
       "      <td>NaN</td>\n",
       "      <td>1267025689</td>\n",
       "      <td>Elizabeth Herrington</td>\n",
       "    </tr>\n",
       "    <tr>\n",
       "      <th>46</th>\n",
       "      <td>33</td>\n",
       "      <td>20180627</td>\n",
       "      <td>NaN</td>\n",
       "      <td>841221912612</td>\n",
       "      <td>John Lowe</td>\n",
       "    </tr>\n",
       "    <tr>\n",
       "      <th>47</th>\n",
       "      <td>14</td>\n",
       "      <td>29/11/17</td>\n",
       "      <td>NaN</td>\n",
       "      <td>841224205265</td>\n",
       "      <td>Vincent Shone</td>\n",
       "    </tr>\n",
       "    <tr>\n",
       "      <th>57</th>\n",
       "      <td>24</td>\n",
       "      <td>2018-06-05 00:00:1528131600</td>\n",
       "      <td>NaN</td>\n",
       "      <td>84341879989</td>\n",
       "      <td>Janet Doughty</td>\n",
       "    </tr>\n",
       "    <tr>\n",
       "      <th>59</th>\n",
       "      <td>41</td>\n",
       "      <td>2018-03-25 00:00:1521910800</td>\n",
       "      <td>NaN</td>\n",
       "      <td>84963807157</td>\n",
       "      <td>lenny arNEtt</td>\n",
       "    </tr>\n",
       "    <tr>\n",
       "      <th>65</th>\n",
       "      <td>66</td>\n",
       "      <td>12/09/19</td>\n",
       "      <td>NaN</td>\n",
       "      <td>84869366677</td>\n",
       "      <td>Florence Luallen</td>\n",
       "    </tr>\n",
       "    <tr>\n",
       "      <th>68</th>\n",
       "      <td>69</td>\n",
       "      <td>20180918</td>\n",
       "      <td>NaN</td>\n",
       "      <td>1289086592</td>\n",
       "      <td>sHARon HarRIS</td>\n",
       "    </tr>\n",
       "    <tr>\n",
       "      <th>72</th>\n",
       "      <td>86</td>\n",
       "      <td>20190611</td>\n",
       "      <td>NaN</td>\n",
       "      <td>865639641</td>\n",
       "      <td>Yvette Hayden</td>\n",
       "    </tr>\n",
       "    <tr>\n",
       "      <th>76</th>\n",
       "      <td>66</td>\n",
       "      <td>20180728</td>\n",
       "      <td>NaN</td>\n",
       "      <td>344944845</td>\n",
       "      <td>Dora Bowser</td>\n",
       "    </tr>\n",
       "    <tr>\n",
       "      <th>81</th>\n",
       "      <td>69</td>\n",
       "      <td>2018-06-02 00:00:1527872400</td>\n",
       "      <td>NaN</td>\n",
       "      <td>841267978866</td>\n",
       "      <td>Lamont Baucom</td>\n",
       "    </tr>\n",
       "    <tr>\n",
       "      <th>85</th>\n",
       "      <td>86</td>\n",
       "      <td>30/09/17</td>\n",
       "      <td>NaN</td>\n",
       "      <td>334998639</td>\n",
       "      <td>James Wendel</td>\n",
       "    </tr>\n",
       "    <tr>\n",
       "      <th>96</th>\n",
       "      <td>97</td>\n",
       "      <td>2017-08-22 00:00:1503334800</td>\n",
       "      <td>NaN</td>\n",
       "      <td>84972812359</td>\n",
       "      <td>Daniel Bentley</td>\n",
       "    </tr>\n",
       "  </tbody>\n",
       "</table>\n",
       "</div>"
      ],
      "text/plain": [
       "    CUst ID                   JOIN% DATE  Unnamed: 2       mobiles  \\\n",
       "5        21  2018-06-02 00:00:1527872400         NaN   84339769174   \n",
       "8         9  2018-12-01 00:00:1543597200         NaN     782904001   \n",
       "13       14                     20171210         NaN   84356173988   \n",
       "20       21                     30/08/17         NaN  841227138894   \n",
       "23       24                     04/04/19         NaN   84766048406   \n",
       "24       97                     09/02/19         NaN   84978909747   \n",
       "32       33                     20190723         NaN     974404339   \n",
       "33        9  2017-10-21 00:00:1508518800         NaN    1285210195   \n",
       "40       41                     01/01/19         NaN    1267025689   \n",
       "46       33                     20180627         NaN  841221912612   \n",
       "47       14                     29/11/17         NaN  841224205265   \n",
       "57       24  2018-06-05 00:00:1528131600         NaN   84341879989   \n",
       "59       41  2018-03-25 00:00:1521910800         NaN   84963807157   \n",
       "65       66                     12/09/19         NaN   84869366677   \n",
       "68       69                     20180918         NaN    1289086592   \n",
       "72       86                     20190611         NaN     865639641   \n",
       "76       66                     20180728         NaN     344944845   \n",
       "81       69  2018-06-02 00:00:1527872400         NaN  841267978866   \n",
       "85       86                     30/09/17         NaN     334998639   \n",
       "96       97  2017-08-22 00:00:1503334800         NaN   84972812359   \n",
       "\n",
       "                 FLL NAM  \n",
       "5        Roger Callender  \n",
       "8           JaMeS dEmERs  \n",
       "13            Paul Ruper  \n",
       "20           aNGiE DavIS  \n",
       "23        juaNIta nutTer  \n",
       "24       Stephanie Short  \n",
       "32     Lawrence Cummings  \n",
       "33         Shelby Dexter  \n",
       "40  Elizabeth Herrington  \n",
       "46             John Lowe  \n",
       "47         Vincent Shone  \n",
       "57         Janet Doughty  \n",
       "59          lenny arNEtt  \n",
       "65      Florence Luallen  \n",
       "68         sHARon HarRIS  \n",
       "72         Yvette Hayden  \n",
       "76           Dora Bowser  \n",
       "81         Lamont Baucom  \n",
       "85          James Wendel  \n",
       "96        Daniel Bentley  "
      ]
     },
     "execution_count": 10,
     "metadata": {},
     "output_type": "execute_result"
    }
   ],
   "source": [
    "messy[messy.duplicated(['CUst ID'], keep=False)]\n"
   ]
  },
  {
   "cell_type": "code",
   "execution_count": 17,
   "metadata": {},
   "outputs": [
    {
     "data": {
      "text/plain": [
       "CUst ID         0\n",
       "  JOIN% DATE    0\n",
       "mobiles         0\n",
       "  FLL NAM       0\n",
       "dtype: int64"
      ]
     },
     "execution_count": 17,
     "metadata": {},
     "output_type": "execute_result"
    }
   ],
   "source": [
    "#Clean the names of columns to lowercase separated by “_”, remove any empty column if necessary.\n",
    "## Checking number of rows and columns\n",
    "\n",
    "messy.shape\n",
    "\n",
    "## checking for missing values\n",
    "messy.isnull().sum()\n",
    "\n",
    "## we have an empty column Unnamed:2. All 100 values missing. Removing the column\n",
    "#messy = messy.drop(\"Unnamed: 2\", axis=1)\n",
    "\n",
    "\n",
    "\n"
   ]
  },
  {
   "cell_type": "code",
   "execution_count": 18,
   "metadata": {},
   "outputs": [
    {
     "data": {
      "text/html": [
       "<div>\n",
       "<style scoped>\n",
       "    .dataframe tbody tr th:only-of-type {\n",
       "        vertical-align: middle;\n",
       "    }\n",
       "\n",
       "    .dataframe tbody tr th {\n",
       "        vertical-align: top;\n",
       "    }\n",
       "\n",
       "    .dataframe thead th {\n",
       "        text-align: right;\n",
       "    }\n",
       "</style>\n",
       "<table border=\"1\" class=\"dataframe\">\n",
       "  <thead>\n",
       "    <tr style=\"text-align: right;\">\n",
       "      <th></th>\n",
       "      <th>CUst ID</th>\n",
       "      <th>JOIN% DATE</th>\n",
       "      <th>mobiles</th>\n",
       "      <th>FLL NAM</th>\n",
       "    </tr>\n",
       "  </thead>\n",
       "  <tbody>\n",
       "    <tr>\n",
       "      <th>0</th>\n",
       "      <td>1</td>\n",
       "      <td>08/07/19</td>\n",
       "      <td>84333605993</td>\n",
       "      <td>mIChAel mIcHALek</td>\n",
       "    </tr>\n",
       "    <tr>\n",
       "      <th>1</th>\n",
       "      <td>2</td>\n",
       "      <td>09/10/18</td>\n",
       "      <td>973444062</td>\n",
       "      <td>Andrew Jimenez</td>\n",
       "    </tr>\n",
       "    <tr>\n",
       "      <th>2</th>\n",
       "      <td>3</td>\n",
       "      <td>20190630</td>\n",
       "      <td>338262954</td>\n",
       "      <td>Ann Gow</td>\n",
       "    </tr>\n",
       "  </tbody>\n",
       "</table>\n",
       "</div>"
      ],
      "text/plain": [
       "   CUst ID   JOIN% DATE      mobiles           FLL NAM\n",
       "0        1     08/07/19  84333605993  mIChAel mIcHALek\n",
       "1        2     09/10/18    973444062    Andrew Jimenez\n",
       "2        3     20190630    338262954           Ann Gow"
      ]
     },
     "execution_count": 18,
     "metadata": {},
     "output_type": "execute_result"
    }
   ],
   "source": [
    "## validating\n",
    "messy.head(3)"
   ]
  },
  {
   "cell_type": "code",
   "execution_count": 19,
   "metadata": {},
   "outputs": [
    {
     "data": {
      "text/plain": [
       "Index(['CUst ID', '  JOIN% DATE', 'mobiles', '  FLL NAM'], dtype='object')"
      ]
     },
     "execution_count": 19,
     "metadata": {},
     "output_type": "execute_result"
    }
   ],
   "source": [
    "messy.columns\n"
   ]
  },
  {
   "cell_type": "code",
   "execution_count": 20,
   "metadata": {},
   "outputs": [],
   "source": [
    "## Removing special characters, whitespaces and renaming column names as specified\n",
    "\n",
    "messy.columns = messy.columns.str.replace(\"%\",\"\")\n",
    "messy.columns = messy.columns.str.lstrip()\n",
    "messy.rename(columns={'CUst ID':'cust_id','JOIN DATE':'join_date','FLL NAM':'fll_nam'}, inplace=True)"
   ]
  },
  {
   "cell_type": "code",
   "execution_count": 21,
   "metadata": {},
   "outputs": [
    {
     "data": {
      "text/plain": [
       "Index(['cust_id', 'join_date', 'mobiles', 'fll_nam'], dtype='object')"
      ]
     },
     "execution_count": 21,
     "metadata": {},
     "output_type": "execute_result"
    }
   ],
   "source": [
    "## Validating\n",
    "\n",
    "messy.columns"
   ]
  },
  {
   "cell_type": "code",
   "execution_count": 22,
   "metadata": {},
   "outputs": [],
   "source": [
    "#Change the date column to the same format ‘YYYY-MM-DD’.\n",
    "\n",
    "messy['join_date']=pd.to_datetime(messy['join_date'],errors='coerce')\n",
    "unique=pd.to_datetime(messy['join_date'], format='%Y-%m-%d %H:%M:%S%f',errors='coerce').dt.strftime('%Y-%m-%d')\n",
    "messy.loc[messy['join_date'].isnull(),'join_date']=unique\n",
    "messy['join_date']=pd.to_datetime(messy['join_date'],errors='coerce')"
   ]
  },
  {
   "cell_type": "code",
   "execution_count": 23,
   "metadata": {},
   "outputs": [
    {
     "data": {
      "text/html": [
       "<div>\n",
       "<style scoped>\n",
       "    .dataframe tbody tr th:only-of-type {\n",
       "        vertical-align: middle;\n",
       "    }\n",
       "\n",
       "    .dataframe tbody tr th {\n",
       "        vertical-align: top;\n",
       "    }\n",
       "\n",
       "    .dataframe thead th {\n",
       "        text-align: right;\n",
       "    }\n",
       "</style>\n",
       "<table border=\"1\" class=\"dataframe\">\n",
       "  <thead>\n",
       "    <tr style=\"text-align: right;\">\n",
       "      <th></th>\n",
       "      <th>cust_id</th>\n",
       "      <th>join_date</th>\n",
       "      <th>mobiles</th>\n",
       "      <th>fll_nam</th>\n",
       "    </tr>\n",
       "  </thead>\n",
       "  <tbody>\n",
       "    <tr>\n",
       "      <th>0</th>\n",
       "      <td>1</td>\n",
       "      <td>2019-08-07</td>\n",
       "      <td>84333605993</td>\n",
       "      <td>mIChAel mIcHALek</td>\n",
       "    </tr>\n",
       "    <tr>\n",
       "      <th>1</th>\n",
       "      <td>2</td>\n",
       "      <td>2018-09-10</td>\n",
       "      <td>973444062</td>\n",
       "      <td>Andrew Jimenez</td>\n",
       "    </tr>\n",
       "    <tr>\n",
       "      <th>2</th>\n",
       "      <td>3</td>\n",
       "      <td>2019-06-30</td>\n",
       "      <td>338262954</td>\n",
       "      <td>Ann Gow</td>\n",
       "    </tr>\n",
       "    <tr>\n",
       "      <th>3</th>\n",
       "      <td>4</td>\n",
       "      <td>NaT</td>\n",
       "      <td>84966068026</td>\n",
       "      <td>James Chen</td>\n",
       "    </tr>\n",
       "    <tr>\n",
       "      <th>4</th>\n",
       "      <td>5</td>\n",
       "      <td>2017-08-12</td>\n",
       "      <td>84767065885</td>\n",
       "      <td>Dollie Martinez</td>\n",
       "    </tr>\n",
       "  </tbody>\n",
       "</table>\n",
       "</div>"
      ],
      "text/plain": [
       "   cust_id  join_date      mobiles           fll_nam\n",
       "0        1 2019-08-07  84333605993  mIChAel mIcHALek\n",
       "1        2 2018-09-10    973444062    Andrew Jimenez\n",
       "2        3 2019-06-30    338262954           Ann Gow\n",
       "3        4        NaT  84966068026        James Chen\n",
       "4        5 2017-08-12  84767065885   Dollie Martinez"
      ]
     },
     "execution_count": 23,
     "metadata": {},
     "output_type": "execute_result"
    }
   ],
   "source": [
    "messy.head()"
   ]
  },
  {
   "cell_type": "code",
   "execution_count": 24,
   "metadata": {},
   "outputs": [],
   "source": [
    "#Change the name column to the title case (e.g: Jason Mraz).\n",
    "## changing all letters to lowercase\n",
    "\n",
    "messy['fll_nam']=messy['fll_nam'].str.lower()\n"
   ]
  },
  {
   "cell_type": "code",
   "execution_count": 25,
   "metadata": {},
   "outputs": [],
   "source": [
    "## changing first letter of each word i.e first & last name to uppercase\n",
    "\n",
    "messy['fill_nam'] = messy.fll_nam.str.title()"
   ]
  },
  {
   "cell_type": "code",
   "execution_count": 26,
   "metadata": {},
   "outputs": [
    {
     "data": {
      "text/plain": [
       "0     Michael Michalek\n",
       "1       Andrew Jimenez\n",
       "2              Ann Gow\n",
       "3           James Chen\n",
       "4      Dollie Martinez\n",
       "            ...       \n",
       "95      Ron Grollimund\n",
       "96      Daniel Bentley\n",
       "97        Eugene Brown\n",
       "98        Elmer Miller\n",
       "99     Frances Holland\n",
       "Name: fill_nam, Length: 100, dtype: object"
      ]
     },
     "execution_count": 26,
     "metadata": {},
     "output_type": "execute_result"
    }
   ],
   "source": [
    "## Validating\n",
    "\n",
    "messy['fill_nam']"
   ]
  },
  {
   "cell_type": "code",
   "execution_count": 27,
   "metadata": {},
   "outputs": [],
   "source": [
    "#Make a new “email” column with form: {last_name}.{first_name}.{id}@yourcompany.com\n",
    "\n",
    "## Changing cust_id to string type\n",
    "\n",
    "messy['cust_id']=messy['cust_id'].astype(str)\n",
    "\n",
    "\n"
   ]
  },
  {
   "cell_type": "code",
   "execution_count": 28,
   "metadata": {},
   "outputs": [
    {
     "name": "stderr",
     "output_type": "stream",
     "text": [
      "/tmp/ipykernel_37/2613052363.py:3: FutureWarning: The default value of regex will change from True to False in a future version.\n",
      "  messy['email'] = messy.fll_nam.str.replace('\\s+', '.') + '.'+ messy.cust_id+ '@yourcompany.com'\n"
     ]
    }
   ],
   "source": [
    "## creating eamil using str.replace method\n",
    "\n",
    "messy['email'] = messy.fll_nam.str.replace('\\s+', '.') + '.'+ messy.cust_id+ '@yourcompany.com'"
   ]
  },
  {
   "cell_type": "code",
   "execution_count": 29,
   "metadata": {},
   "outputs": [],
   "source": [
    "## dropping extra fll_nam column with lower case details\n",
    "\n",
    "messy = messy.drop(messy.columns[3],axis=1)"
   ]
  },
  {
   "cell_type": "code",
   "execution_count": 30,
   "metadata": {},
   "outputs": [
    {
     "data": {
      "text/html": [
       "<div>\n",
       "<style scoped>\n",
       "    .dataframe tbody tr th:only-of-type {\n",
       "        vertical-align: middle;\n",
       "    }\n",
       "\n",
       "    .dataframe tbody tr th {\n",
       "        vertical-align: top;\n",
       "    }\n",
       "\n",
       "    .dataframe thead th {\n",
       "        text-align: right;\n",
       "    }\n",
       "</style>\n",
       "<table border=\"1\" class=\"dataframe\">\n",
       "  <thead>\n",
       "    <tr style=\"text-align: right;\">\n",
       "      <th></th>\n",
       "      <th>cust_id</th>\n",
       "      <th>join_date</th>\n",
       "      <th>mobiles</th>\n",
       "      <th>fill_nam</th>\n",
       "      <th>email</th>\n",
       "    </tr>\n",
       "  </thead>\n",
       "  <tbody>\n",
       "    <tr>\n",
       "      <th>0</th>\n",
       "      <td>1</td>\n",
       "      <td>2019-08-07</td>\n",
       "      <td>84333605993</td>\n",
       "      <td>Michael Michalek</td>\n",
       "      <td>michael.michalek.1@yourcompany.com</td>\n",
       "    </tr>\n",
       "    <tr>\n",
       "      <th>1</th>\n",
       "      <td>2</td>\n",
       "      <td>2018-09-10</td>\n",
       "      <td>973444062</td>\n",
       "      <td>Andrew Jimenez</td>\n",
       "      <td>andrew.jimenez.2@yourcompany.com</td>\n",
       "    </tr>\n",
       "    <tr>\n",
       "      <th>2</th>\n",
       "      <td>3</td>\n",
       "      <td>2019-06-30</td>\n",
       "      <td>338262954</td>\n",
       "      <td>Ann Gow</td>\n",
       "      <td>ann.gow.3@yourcompany.com</td>\n",
       "    </tr>\n",
       "    <tr>\n",
       "      <th>3</th>\n",
       "      <td>4</td>\n",
       "      <td>NaT</td>\n",
       "      <td>84966068026</td>\n",
       "      <td>James Chen</td>\n",
       "      <td>james.chen.4@yourcompany.com</td>\n",
       "    </tr>\n",
       "    <tr>\n",
       "      <th>4</th>\n",
       "      <td>5</td>\n",
       "      <td>2017-08-12</td>\n",
       "      <td>84767065885</td>\n",
       "      <td>Dollie Martinez</td>\n",
       "      <td>dollie.martinez.5@yourcompany.com</td>\n",
       "    </tr>\n",
       "  </tbody>\n",
       "</table>\n",
       "</div>"
      ],
      "text/plain": [
       "  cust_id  join_date      mobiles          fill_nam  \\\n",
       "0       1 2019-08-07  84333605993  Michael Michalek   \n",
       "1       2 2018-09-10    973444062    Andrew Jimenez   \n",
       "2       3 2019-06-30    338262954           Ann Gow   \n",
       "3       4        NaT  84966068026        James Chen   \n",
       "4       5 2017-08-12  84767065885   Dollie Martinez   \n",
       "\n",
       "                                email  \n",
       "0  michael.michalek.1@yourcompany.com  \n",
       "1    andrew.jimenez.2@yourcompany.com  \n",
       "2           ann.gow.3@yourcompany.com  \n",
       "3        james.chen.4@yourcompany.com  \n",
       "4   dollie.martinez.5@yourcompany.com  "
      ]
     },
     "execution_count": 30,
     "metadata": {},
     "output_type": "execute_result"
    }
   ],
   "source": [
    "messy.head(5)\n"
   ]
  },
  {
   "cell_type": "code",
   "execution_count": 31,
   "metadata": {},
   "outputs": [],
   "source": [
    "#Change the phone number column to the format “84……”\n",
    "messy['mobiles'] = messy['mobiles'].astype(str)\n",
    "\n",
    "\n",
    "\n"
   ]
  },
  {
   "cell_type": "code",
   "execution_count": 32,
   "metadata": {},
   "outputs": [
    {
     "name": "stderr",
     "output_type": "stream",
     "text": [
      "/tmp/ipykernel_37/334546401.py:1: FutureWarning: The default value of regex will change from True to False in a future version. In addition, single character regular expressions will *not* be treated as literal strings when regex=True.\n",
      "  messy['mobiles'] = messy['mobiles'].str.replace('+', '')\n"
     ]
    }
   ],
   "source": [
    "messy['mobiles'] = messy['mobiles'].str.replace('+', '')\n",
    "messy.loc[~messy['mobiles'].str.startswith('84'), 'mobiles'] = '84' + messy[~messy['mobiles'].str.startswith('84')]['mobiles']"
   ]
  },
  {
   "cell_type": "code",
   "execution_count": 33,
   "metadata": {},
   "outputs": [
    {
     "data": {
      "text/html": [
       "<div>\n",
       "<style scoped>\n",
       "    .dataframe tbody tr th:only-of-type {\n",
       "        vertical-align: middle;\n",
       "    }\n",
       "\n",
       "    .dataframe tbody tr th {\n",
       "        vertical-align: top;\n",
       "    }\n",
       "\n",
       "    .dataframe thead th {\n",
       "        text-align: right;\n",
       "    }\n",
       "</style>\n",
       "<table border=\"1\" class=\"dataframe\">\n",
       "  <thead>\n",
       "    <tr style=\"text-align: right;\">\n",
       "      <th></th>\n",
       "      <th>cust_id</th>\n",
       "      <th>join_date</th>\n",
       "      <th>mobiles</th>\n",
       "      <th>fill_nam</th>\n",
       "      <th>email</th>\n",
       "    </tr>\n",
       "  </thead>\n",
       "  <tbody>\n",
       "    <tr>\n",
       "      <th>0</th>\n",
       "      <td>1</td>\n",
       "      <td>2019-08-07</td>\n",
       "      <td>84333605993</td>\n",
       "      <td>Michael Michalek</td>\n",
       "      <td>michael.michalek.1@yourcompany.com</td>\n",
       "    </tr>\n",
       "    <tr>\n",
       "      <th>1</th>\n",
       "      <td>2</td>\n",
       "      <td>2018-09-10</td>\n",
       "      <td>84973444062</td>\n",
       "      <td>Andrew Jimenez</td>\n",
       "      <td>andrew.jimenez.2@yourcompany.com</td>\n",
       "    </tr>\n",
       "    <tr>\n",
       "      <th>2</th>\n",
       "      <td>3</td>\n",
       "      <td>2019-06-30</td>\n",
       "      <td>84338262954</td>\n",
       "      <td>Ann Gow</td>\n",
       "      <td>ann.gow.3@yourcompany.com</td>\n",
       "    </tr>\n",
       "    <tr>\n",
       "      <th>3</th>\n",
       "      <td>4</td>\n",
       "      <td>NaT</td>\n",
       "      <td>84966068026</td>\n",
       "      <td>James Chen</td>\n",
       "      <td>james.chen.4@yourcompany.com</td>\n",
       "    </tr>\n",
       "    <tr>\n",
       "      <th>4</th>\n",
       "      <td>5</td>\n",
       "      <td>2017-08-12</td>\n",
       "      <td>84767065885</td>\n",
       "      <td>Dollie Martinez</td>\n",
       "      <td>dollie.martinez.5@yourcompany.com</td>\n",
       "    </tr>\n",
       "  </tbody>\n",
       "</table>\n",
       "</div>"
      ],
      "text/plain": [
       "  cust_id  join_date      mobiles          fill_nam  \\\n",
       "0       1 2019-08-07  84333605993  Michael Michalek   \n",
       "1       2 2018-09-10  84973444062    Andrew Jimenez   \n",
       "2       3 2019-06-30  84338262954           Ann Gow   \n",
       "3       4        NaT  84966068026        James Chen   \n",
       "4       5 2017-08-12  84767065885   Dollie Martinez   \n",
       "\n",
       "                                email  \n",
       "0  michael.michalek.1@yourcompany.com  \n",
       "1    andrew.jimenez.2@yourcompany.com  \n",
       "2           ann.gow.3@yourcompany.com  \n",
       "3        james.chen.4@yourcompany.com  \n",
       "4   dollie.martinez.5@yourcompany.com  "
      ]
     },
     "execution_count": 33,
     "metadata": {},
     "output_type": "execute_result"
    }
   ],
   "source": [
    "messy.head(5)\n"
   ]
  },
  {
   "cell_type": "code",
   "execution_count": 34,
   "metadata": {},
   "outputs": [],
   "source": [
    "#Find any duplicated ID and remove those who join later.\n",
    "\n",
    "## Sorting by join date desecending and then dropping the duplicate values by keeping the highest date\n",
    "\n",
    "messy = messy.sort_values(by='join_date', ascending=False)\n",
    "messy = messy.drop_duplicates(subset='cust_id', keep=\"first\")\n",
    "\n"
   ]
  },
  {
   "cell_type": "code",
   "execution_count": 35,
   "metadata": {},
   "outputs": [
    {
     "data": {
      "text/plain": [
       "(90, 5)"
      ]
     },
     "execution_count": 35,
     "metadata": {},
     "output_type": "execute_result"
    }
   ],
   "source": [
    "## Validating . As identified earlier the data had 10 pairs of duplicate rows, dropped 10 rows.\n",
    "\n",
    "messy.shape"
   ]
  },
  {
   "cell_type": "code",
   "execution_count": 37,
   "metadata": {},
   "outputs": [],
   "source": [
    "#Filter those who join since 2019 and export to a csv file, delimited by “|”, file name “emp_{report_date}.csv” with report_date = today.\n",
    "\n",
    "## Filtering data\n",
    "\n",
    "filter_df = messy[(messy['join_date']> \"2019-01-01\")]\n"
   ]
  },
  {
   "cell_type": "code",
   "execution_count": 38,
   "metadata": {},
   "outputs": [
    {
     "data": {
      "text/plain": [
       "65   2019-12-09\n",
       "91   2019-11-05\n",
       "10   2019-10-07\n",
       "19   2019-09-23\n",
       "24   2019-09-02\n",
       "99   2019-08-22\n",
       "73   2019-08-19\n",
       "95   2019-08-16\n",
       "0    2019-08-07\n",
       "82   2019-07-28\n",
       "32   2019-07-23\n",
       "2    2019-06-30\n",
       "98   2019-06-12\n",
       "72   2019-06-11\n",
       "94   2019-06-08\n",
       "31   2019-06-06\n",
       "62   2019-06-01\n",
       "41   2019-05-21\n",
       "69   2019-05-18\n",
       "77   2019-04-21\n",
       "23   2019-04-04\n",
       "51   2019-01-23\n",
       "6    2019-01-05\n",
       "Name: join_date, dtype: datetime64[ns]"
      ]
     },
     "execution_count": 38,
     "metadata": {},
     "output_type": "execute_result"
    }
   ],
   "source": [
    "# Validating\n",
    "\n",
    "filter_df['join_date']"
   ]
  },
  {
   "cell_type": "code",
   "execution_count": 39,
   "metadata": {},
   "outputs": [],
   "source": [
    "filter_df.to_csv('clean_data.csv',sep ='|',index=False)\n"
   ]
  }
 ],
 "metadata": {
  "kernelspec": {
   "display_name": "Python 3 (ipykernel)",
   "language": "python",
   "name": "python3"
  },
  "language_info": {
   "codemirror_mode": {
    "name": "ipython",
    "version": 3
   },
   "file_extension": ".py",
   "mimetype": "text/x-python",
   "name": "python",
   "nbconvert_exporter": "python",
   "pygments_lexer": "ipython3",
   "version": "3.9.7"
  }
 },
 "nbformat": 4,
 "nbformat_minor": 2
}
